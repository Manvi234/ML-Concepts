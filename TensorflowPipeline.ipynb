{
  "nbformat": 4,
  "nbformat_minor": 0,
  "metadata": {
    "colab": {
      "provenance": [],
      "authorship_tag": "ABX9TyMY2zfrkQ6FXej3ydvdQuJ4",
      "include_colab_link": true
    },
    "kernelspec": {
      "name": "python3",
      "display_name": "Python 3"
    },
    "language_info": {
      "name": "python"
    }
  },
  "cells": [
    {
      "cell_type": "markdown",
      "metadata": {
        "id": "view-in-github",
        "colab_type": "text"
      },
      "source": [
        "<a href=\"https://colab.research.google.com/github/Manvi234/ML-Concepts/blob/main/TensorflowPipeline.ipynb\" target=\"_parent\"><img src=\"https://colab.research.google.com/assets/colab-badge.svg\" alt=\"Open In Colab\"/></a>"
      ]
    },
    {
      "cell_type": "code",
      "execution_count": 1,
      "metadata": {
        "id": "MLaSEzk9XkfP"
      },
      "outputs": [],
      "source": [
        "import tensorflow as tf"
      ]
    },
    {
      "cell_type": "code",
      "source": [
        "daily_sales = [21,23,45,-107,8,-10,31,90]"
      ],
      "metadata": {
        "id": "xZQCrowPfkBV"
      },
      "execution_count": 2,
      "outputs": []
    },
    {
      "cell_type": "code",
      "source": [
        "tf_dataset = tf.data.Dataset.from_tensor_slices(daily_sales)"
      ],
      "metadata": {
        "id": "a_m5RtrcfuOi"
      },
      "execution_count": 3,
      "outputs": []
    },
    {
      "cell_type": "code",
      "source": [
        "tf_dataset"
      ],
      "metadata": {
        "colab": {
          "base_uri": "https://localhost:8080/"
        },
        "id": "5stNAmyYf6lO",
        "outputId": "9e68f28b-412a-4ae1-c178-9fa89114e141"
      },
      "execution_count": 4,
      "outputs": [
        {
          "output_type": "execute_result",
          "data": {
            "text/plain": [
              "<TensorSliceDataset element_spec=TensorSpec(shape=(), dtype=tf.int32, name=None)>"
            ]
          },
          "metadata": {},
          "execution_count": 4
        }
      ]
    },
    {
      "cell_type": "code",
      "source": [
        "for i in tf_dataset:\n",
        "  print(i)"
      ],
      "metadata": {
        "colab": {
          "base_uri": "https://localhost:8080/"
        },
        "id": "uV3KNa2wf_SK",
        "outputId": "87025af2-1c56-4eac-bac1-fe470424a6b8"
      },
      "execution_count": 5,
      "outputs": [
        {
          "output_type": "stream",
          "name": "stdout",
          "text": [
            "tf.Tensor(21, shape=(), dtype=int32)\n",
            "tf.Tensor(23, shape=(), dtype=int32)\n",
            "tf.Tensor(45, shape=(), dtype=int32)\n",
            "tf.Tensor(-107, shape=(), dtype=int32)\n",
            "tf.Tensor(8, shape=(), dtype=int32)\n",
            "tf.Tensor(-10, shape=(), dtype=int32)\n",
            "tf.Tensor(31, shape=(), dtype=int32)\n",
            "tf.Tensor(90, shape=(), dtype=int32)\n"
          ]
        }
      ]
    },
    {
      "cell_type": "code",
      "source": [
        "for i in tf_dataset:\n",
        "  print(i.numpy())"
      ],
      "metadata": {
        "colab": {
          "base_uri": "https://localhost:8080/"
        },
        "id": "5o7j7P8SgDbB",
        "outputId": "8872fb96-4b0b-4fb9-d368-4696b600f22a"
      },
      "execution_count": 6,
      "outputs": [
        {
          "output_type": "stream",
          "name": "stdout",
          "text": [
            "21\n",
            "23\n",
            "45\n",
            "-107\n",
            "8\n",
            "-10\n",
            "31\n",
            "90\n"
          ]
        }
      ]
    },
    {
      "cell_type": "markdown",
      "source": [
        "### Understanding the functions used in Tensorflow"
      ],
      "metadata": {
        "id": "Q-1eS6MAgRV9"
      }
    },
    {
      "cell_type": "code",
      "source": [
        "for i in tf_dataset.take(3):#take(num) prints the number of data items mentioned\n",
        "  print(i.numpy())"
      ],
      "metadata": {
        "colab": {
          "base_uri": "https://localhost:8080/"
        },
        "id": "mNgBG7yIgI0q",
        "outputId": "0979f502-f23a-40f3-e0e5-88e40c3db129"
      },
      "execution_count": 7,
      "outputs": [
        {
          "output_type": "stream",
          "name": "stdout",
          "text": [
            "21\n",
            "23\n",
            "45\n"
          ]
        }
      ]
    },
    {
      "cell_type": "code",
      "source": [
        "tf_dataset = tf_dataset.filter(lambda x:x>0)"
      ],
      "metadata": {
        "id": "2WpcQb1GghJZ"
      },
      "execution_count": 9,
      "outputs": []
    },
    {
      "cell_type": "code",
      "source": [
        "for i in tf_dataset:\n",
        "  print(i.numpy())"
      ],
      "metadata": {
        "colab": {
          "base_uri": "https://localhost:8080/"
        },
        "id": "kEeeQpJxg1-4",
        "outputId": "2469d6fd-96ea-4722-af51-dffde6f00e18"
      },
      "execution_count": 10,
      "outputs": [
        {
          "output_type": "stream",
          "name": "stdout",
          "text": [
            "21\n",
            "23\n",
            "45\n",
            "8\n",
            "31\n",
            "90\n"
          ]
        }
      ]
    },
    {
      "cell_type": "code",
      "source": [
        "tf_dataset = tf_dataset.map(lambda x : x*20) #map is used to take each value from the dataset and perform the operation mentioned by the user"
      ],
      "metadata": {
        "id": "ycwt2hM1g5zk"
      },
      "execution_count": 11,
      "outputs": []
    },
    {
      "cell_type": "code",
      "source": [
        "for i in tf_dataset:\n",
        "  print(i.numpy())"
      ],
      "metadata": {
        "colab": {
          "base_uri": "https://localhost:8080/"
        },
        "id": "2sp7HMTNhJQy",
        "outputId": "bc6b7198-7204-4eec-d306-5f395553d0e6"
      },
      "execution_count": 12,
      "outputs": [
        {
          "output_type": "stream",
          "name": "stdout",
          "text": [
            "420\n",
            "460\n",
            "900\n",
            "160\n",
            "620\n",
            "1800\n"
          ]
        }
      ]
    },
    {
      "cell_type": "code",
      "source": [
        "tf_dataset = tf_dataset.shuffle(3)\n",
        "for i in tf_dataset:\n",
        "  print(i.numpy())"
      ],
      "metadata": {
        "colab": {
          "base_uri": "https://localhost:8080/"
        },
        "id": "G81eq362hM9Z",
        "outputId": "4173ea08-dcb9-4e07-d84e-bb5ce69d5515"
      },
      "execution_count": 13,
      "outputs": [
        {
          "output_type": "stream",
          "name": "stdout",
          "text": [
            "900\n",
            "460\n",
            "620\n",
            "1800\n",
            "420\n",
            "160\n"
          ]
        }
      ]
    },
    {
      "cell_type": "markdown",
      "source": [
        "HOW SHUFFLE WORKS\n",
        " \n",
        "Now imagine you have a array of elements say \n",
        "l =[1,3,4,5,6,7]\n",
        "\n",
        "now you put the buffer as 3 and buffer is the argument that your shuffle method requires so what happens is there is a window of 3 and your data is divided randomly into parts of three here it would be \n",
        "\n",
        "1 3 4 (Random buffer)\n",
        "\n",
        "5,6,7(remaining data)\n",
        "\n",
        "now a random number is picked from this random buffer say 3\n",
        "\n",
        "now you are left with 1 4  5 6 7 \n",
        "\n",
        "now a window of 3  [1 4 5] [6 7]\n",
        "\n",
        "now you repeat ehat happened with 3 that is again pick up a random element from the window of 1 4 5 \n",
        "\n",
        "now we will have \n",
        "\n",
        "3 [1 4 5] [6 7]\n",
        "\n",
        "1 [4 5 6] [7]\n",
        "\n",
        "5 [4 6 7]\n",
        "\n",
        "4 [6 7]\n",
        "\n",
        "7 [6]\n",
        "\n",
        "6\n",
        "\n",
        "so the random sequence will be 3,1,5,4,7,6"
      ],
      "metadata": {
        "id": "RIzcbRz0iZci"
      }
    },
    {
      "cell_type": "code",
      "source": [
        "for i in tf_dataset.batch(2):\n",
        "  print(i.numpy())"
      ],
      "metadata": {
        "colab": {
          "base_uri": "https://localhost:8080/"
        },
        "id": "ud9WyHUnkFOt",
        "outputId": "21df5267-831e-4e24-de1f-77a02d952af9"
      },
      "execution_count": 15,
      "outputs": [
        {
          "output_type": "stream",
          "name": "stdout",
          "text": [
            "[460 420]\n",
            "[900 160]\n",
            "[1800  620]\n"
          ]
        }
      ]
    },
    {
      "cell_type": "code",
      "source": [
        "for i in tf_dataset.batch(3):\n",
        "  print(i.numpy())"
      ],
      "metadata": {
        "colab": {
          "base_uri": "https://localhost:8080/"
        },
        "id": "MEuKR0qEk9DH",
        "outputId": "beea5644-a274-4eca-c408-610344186f3b"
      },
      "execution_count": 16,
      "outputs": [
        {
          "output_type": "stream",
          "name": "stdout",
          "text": [
            "[420 460 900]\n",
            "[1800  160  620]\n"
          ]
        }
      ]
    },
    {
      "cell_type": "markdown",
      "source": [
        "Batching is done to divide huge dataset so that you can run it on multiple gpus"
      ],
      "metadata": {
        "id": "PDPCuI44k_Eq"
      }
    },
    {
      "cell_type": "markdown",
      "source": [
        "## **Tensorflow Pipeline**\n",
        "\n"
      ],
      "metadata": {
        "id": "dbQ441t1mRk4"
      }
    },
    {
      "cell_type": "code",
      "source": [
        "tf_dataset = tf.data.Dataset.from_tensor_slices(daily_sales)\n",
        "tf_dataset = tf_dataset.filter(lambda x:x>0).map(lambda y: y*20).shuffle(3).batch(2)\n",
        "tf_dataset"
      ],
      "metadata": {
        "colab": {
          "base_uri": "https://localhost:8080/"
        },
        "id": "fgnFkBmZlF4T",
        "outputId": "45a99640-b233-4601-f17c-c7da77a08b17"
      },
      "execution_count": 20,
      "outputs": [
        {
          "output_type": "execute_result",
          "data": {
            "text/plain": [
              "<BatchDataset element_spec=TensorSpec(shape=(None,), dtype=tf.int32, name=None)>"
            ]
          },
          "metadata": {},
          "execution_count": 20
        }
      ]
    },
    {
      "cell_type": "code",
      "source": [
        "for i in tf_dataset:\n",
        "  print(i.numpy())"
      ],
      "metadata": {
        "colab": {
          "base_uri": "https://localhost:8080/"
        },
        "id": "DRveo9gsmHgg",
        "outputId": "2478fcdd-cb55-46b5-88e1-2bad7c082c4a"
      },
      "execution_count": 21,
      "outputs": [
        {
          "output_type": "stream",
          "name": "stdout",
          "text": [
            "[420 160]\n",
            "[620 460]\n",
            "[1800  900]\n"
          ]
        }
      ]
    },
    {
      "cell_type": "code",
      "source": [],
      "metadata": {
        "id": "TiaI2ycNmNWK"
      },
      "execution_count": null,
      "outputs": []
    }
  ]
}