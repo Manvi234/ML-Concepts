{
  "nbformat": 4,
  "nbformat_minor": 0,
  "metadata": {
    "colab": {
      "provenance": [],
      "authorship_tag": "ABX9TyORnP/CxJrAJ9LxTNGoFMW3",
      "include_colab_link": true
    },
    "kernelspec": {
      "name": "python3",
      "display_name": "Python 3"
    },
    "language_info": {
      "name": "python"
    }
  },
  "cells": [
    {
      "cell_type": "markdown",
      "metadata": {
        "id": "view-in-github",
        "colab_type": "text"
      },
      "source": [
        "<a href=\"https://colab.research.google.com/github/Manvi234/ML-Concepts/blob/main/Words2NumbersSupervivedTechnique.ipynb\" target=\"_parent\"><img src=\"https://colab.research.google.com/assets/colab-badge.svg\" alt=\"Open In Colab\"/></a>"
      ]
    },
    {
      "cell_type": "code",
      "execution_count": 1,
      "metadata": {
        "id": "vgpjTS5qARPI"
      },
      "outputs": [],
      "source": [
        "import numpy as np\n",
        "import pandas as pd\n",
        "import matplotlib.pyplot as plt\n",
        "import tensorflow as tf\n",
        "from tensorflow import keras\n",
        "import tensorflow_hub as hub\n",
        "from tensorflow.keras import layers\n",
        "from tensorflow.keras.models import Sequential\n",
        "import PIL.Image as Image\n",
        "import os\n",
        "import cv2"
      ]
    },
    {
      "cell_type": "code",
      "source": [
        "rest_reviews = ['nice food',\n",
        "                'amazing restaurant',\n",
        "                'too good',\n",
        "                'just loved it',\n",
        "                'will go again',\n",
        "                'horrible food',\n",
        "                'never go there',\n",
        "                'poor service',\n",
        "                'poor quality',\n",
        "                'needs improvement']\n",
        "senitiment = [1,1,1,1,1,0,0,0,0,0]"
      ],
      "metadata": {
        "id": "3dK_Ipj0BDIE"
      },
      "execution_count": 2,
      "outputs": []
    },
    {
      "cell_type": "code",
      "source": [
        "from tensorflow.keras.preprocessing.text import one_hot\n",
        "one_hot('amazing restaurant',30)#30 is vocab size"
      ],
      "metadata": {
        "colab": {
          "base_uri": "https://localhost:8080/"
        },
        "id": "P5RxYrI-vHAj",
        "outputId": "1c6e2d9e-64b9-43da-8205-906f9c099f70"
      },
      "execution_count": 3,
      "outputs": [
        {
          "output_type": "execute_result",
          "data": {
            "text/plain": [
              "[13, 12]"
            ]
          },
          "metadata": {},
          "execution_count": 3
        }
      ]
    },
    {
      "cell_type": "code",
      "source": [
        "vocabulary_size = 30\n",
        "encoded_reviews =[]\n",
        "for d in rest_reviews:\n",
        "  encoded_reviews.append(one_hot(d,vocabulary_size))\n",
        "  \n",
        "encoded_reviews"
      ],
      "metadata": {
        "colab": {
          "base_uri": "https://localhost:8080/"
        },
        "id": "wAwhvOdPvrJ3",
        "outputId": "655d9d7b-8912-4162-f0a4-73c869c53fff"
      },
      "execution_count": 4,
      "outputs": [
        {
          "output_type": "execute_result",
          "data": {
            "text/plain": [
              "[[10, 26],\n",
              " [13, 12],\n",
              " [3, 3],\n",
              " [17, 17, 17],\n",
              " [6, 24, 11],\n",
              " [21, 26],\n",
              " [16, 24, 20],\n",
              " [11, 29],\n",
              " [11, 10],\n",
              " [23, 18]]"
            ]
          },
          "metadata": {},
          "execution_count": 4
        }
      ]
    },
    {
      "cell_type": "code",
      "source": [
        "from tensorflow.keras.preprocessing.sequence import pad_sequences"
      ],
      "metadata": {
        "id": "1dIcp_jVwLXQ"
      },
      "execution_count": 5,
      "outputs": []
    },
    {
      "cell_type": "code",
      "source": [
        "max_length = 4\n",
        "padded_reviews = pad_sequences(encoded_reviews,maxlen = max_length,padding='post')\n",
        "print(padded_reviews)"
      ],
      "metadata": {
        "colab": {
          "base_uri": "https://localhost:8080/"
        },
        "id": "z4bQQB1CGlSX",
        "outputId": "bf42b41d-778c-4f38-97c9-48e89f77523b"
      },
      "execution_count": 19,
      "outputs": [
        {
          "output_type": "stream",
          "name": "stdout",
          "text": [
            "[[10 26  0  0]\n",
            " [13 12  0  0]\n",
            " [ 3  3  0  0]\n",
            " [17 17 17  0]\n",
            " [ 6 24 11  0]\n",
            " [21 26  0  0]\n",
            " [16 24 20  0]\n",
            " [11 29  0  0]\n",
            " [11 10  0  0]\n",
            " [23 18  0  0]]\n"
          ]
        }
      ]
    },
    {
      "cell_type": "code",
      "source": [
        "from tensorflow.keras.layers import Embedding\n",
        "from tensorflow.keras.layers import Flatten\n",
        "from tensorflow.keras.layers import Dense"
      ],
      "metadata": {
        "id": "Ljod6K4NH0qk"
      },
      "execution_count": 20,
      "outputs": []
    },
    {
      "cell_type": "code",
      "source": [
        "embedded_vector_size = 5\n",
        "model = Sequential()\n",
        "model.add(Embedding(vocabulary_size,embedded_vector_size,input_length=max_length,name=\"embedding\"))\n",
        "model.add(Flatten())\n",
        "model.add(Dense(1,activation='sigmoid'))"
      ],
      "metadata": {
        "id": "wAeRAozoHXUq"
      },
      "execution_count": 21,
      "outputs": []
    },
    {
      "cell_type": "code",
      "source": [
        "X=padded_reviews\n",
        "y = np.array(senitiment)"
      ],
      "metadata": {
        "id": "_-DRLjC0In89"
      },
      "execution_count": 26,
      "outputs": []
    },
    {
      "cell_type": "code",
      "source": [
        "model.compile(optimizer='adam',loss='binary_crossentropy',metrics=['accuracy'])"
      ],
      "metadata": {
        "id": "eQJKcIbNJCUg"
      },
      "execution_count": 33,
      "outputs": []
    },
    {
      "cell_type": "code",
      "source": [
        "print(model.summary())"
      ],
      "metadata": {
        "colab": {
          "base_uri": "https://localhost:8080/"
        },
        "id": "s6S-LmI_JV1Y",
        "outputId": "88ee510d-2710-4a8c-e4ff-3e447c078ac0"
      },
      "execution_count": 34,
      "outputs": [
        {
          "output_type": "stream",
          "name": "stdout",
          "text": [
            "Model: \"sequential_2\"\n",
            "_________________________________________________________________\n",
            " Layer (type)                Output Shape              Param #   \n",
            "=================================================================\n",
            " embedding (Embedding)       (None, 4, 5)              150       \n",
            "                                                                 \n",
            " flatten_2 (Flatten)         (None, 20)                0         \n",
            "                                                                 \n",
            " dense_1 (Dense)             (None, 1)                 21        \n",
            "                                                                 \n",
            "=================================================================\n",
            "Total params: 171\n",
            "Trainable params: 171\n",
            "Non-trainable params: 0\n",
            "_________________________________________________________________\n",
            "None\n"
          ]
        }
      ]
    },
    {
      "cell_type": "code",
      "source": [
        "model.fit(X, y, epochs=50, verbose=0)"
      ],
      "metadata": {
        "colab": {
          "base_uri": "https://localhost:8080/"
        },
        "id": "V3GdDLIrJkbk",
        "outputId": "4986bd57-4695-464e-e64f-eb8fc0d13888"
      },
      "execution_count": 48,
      "outputs": [
        {
          "output_type": "execute_result",
          "data": {
            "text/plain": [
              "<keras.callbacks.History at 0x7f8c0b7d42e0>"
            ]
          },
          "metadata": {},
          "execution_count": 48
        }
      ]
    },
    {
      "cell_type": "code",
      "source": [
        "loss,accuracy = model.evaluate(X,y)\n",
        "print(loss)\n",
        "print(accuracy)"
      ],
      "metadata": {
        "colab": {
          "base_uri": "https://localhost:8080/"
        },
        "id": "1ZScCRBTNR6g",
        "outputId": "2a96b642-bb62-4cc1-eb25-2a0af7bc784c"
      },
      "execution_count": 55,
      "outputs": [
        {
          "output_type": "stream",
          "name": "stdout",
          "text": [
            "1/1 [==============================] - 0s 31ms/step - loss: 0.4867 - accuracy: 1.0000\n",
            "0.48665302991867065\n",
            "1.0\n"
          ]
        }
      ]
    },
    {
      "cell_type": "code",
      "source": [
        "weights = model.get_layer('embedding').get_weights()[0]"
      ],
      "metadata": {
        "id": "IWwkzYiMNi5T"
      },
      "execution_count": 57,
      "outputs": []
    },
    {
      "cell_type": "code",
      "source": [
        "weights"
      ],
      "metadata": {
        "colab": {
          "base_uri": "https://localhost:8080/"
        },
        "id": "oEeISp8AN3Rc",
        "outputId": "95f93eb9-ef30-47ff-956e-3657bc144b26"
      },
      "execution_count": 58,
      "outputs": [
        {
          "output_type": "execute_result",
          "data": {
            "text/plain": [
              "array([[ 1.65919676e-01,  1.85424447e-01,  1.12149574e-01,\n",
              "        -1.81627586e-01, -1.78847358e-01],\n",
              "       [-1.32470839e-02,  2.33375095e-02,  2.67919414e-02,\n",
              "        -1.64731033e-02, -3.58300693e-02],\n",
              "       [-2.51972321e-02, -6.09116629e-03,  4.67910208e-02,\n",
              "        -4.26556952e-02,  3.12932394e-02],\n",
              "       [-1.26231134e-01, -6.79975748e-02, -1.93183511e-01,\n",
              "        -1.38953134e-01,  2.00527117e-01],\n",
              "       [ 4.39533480e-02, -1.70284137e-02,  2.94907354e-02,\n",
              "        -5.14211506e-03, -9.69590992e-03],\n",
              "       [ 3.53695042e-02, -3.21922675e-02,  2.39195712e-02,\n",
              "         3.08395289e-02, -2.01812871e-02],\n",
              "       [-1.43461570e-01,  1.76034853e-01, -2.03822389e-01,\n",
              "        -1.46332815e-01, -1.83070093e-01],\n",
              "       [ 4.56742384e-02, -4.36010845e-02, -4.98462096e-02,\n",
              "         4.20796387e-02, -2.71818638e-02],\n",
              "       [ 5.51559776e-03,  3.79256718e-02,  2.55835690e-02,\n",
              "        -9.18023288e-05, -1.26672871e-02],\n",
              "       [ 2.26826929e-02,  3.04719545e-02,  2.36063339e-02,\n",
              "        -2.49961019e-02,  3.10473777e-02],\n",
              "       [-4.76447307e-02,  2.37768263e-01, -1.24625437e-01,\n",
              "        -2.07905710e-01, -1.94982633e-01],\n",
              "       [ 1.27208382e-01, -2.30219021e-01,  1.67941689e-01,\n",
              "         1.97935998e-01,  1.24879368e-01],\n",
              "       [-1.19296134e-01, -1.60545230e-01, -1.82812259e-01,\n",
              "        -1.23501442e-01,  1.83158457e-01],\n",
              "       [-1.51437148e-01,  1.89373806e-01, -1.34037465e-01,\n",
              "        -1.68100223e-01, -1.63368225e-01],\n",
              "       [ 1.02730617e-02, -1.97882410e-02,  1.24447457e-02,\n",
              "         2.68852971e-02, -1.55649334e-03],\n",
              "       [ 4.74637784e-02, -4.02304642e-02,  1.48701668e-03,\n",
              "         1.34352706e-02, -5.51380962e-03],\n",
              "       [ 1.35840192e-01, -2.04735786e-01,  1.42300203e-01,\n",
              "         1.23430669e-01,  1.48346335e-01],\n",
              "       [-1.10199586e-01, -1.05571210e-01, -2.00196266e-01,\n",
              "        -1.04224727e-01,  1.22172415e-01],\n",
              "       [ 1.77110940e-01,  2.00166032e-01,  2.09538504e-01,\n",
              "         1.03259996e-01, -1.30048081e-01],\n",
              "       [ 3.66964601e-02,  1.04129314e-02,  1.60453357e-02,\n",
              "        -2.87631284e-02,  6.28912449e-03],\n",
              "       [ 2.25427806e-01,  1.38907433e-01,  1.54385433e-01,\n",
              "        -1.48723125e-01, -2.10929319e-01],\n",
              "       [ 1.63119033e-01, -1.61367178e-01,  1.57977924e-01,\n",
              "         1.36643335e-01,  1.78867772e-01],\n",
              "       [ 2.61998661e-02,  2.44846381e-02,  7.51906633e-03,\n",
              "         4.99495380e-02, -1.56280175e-02],\n",
              "       [ 1.49974570e-01, -2.34961435e-01,  1.60236210e-01,\n",
              "         1.35302067e-01,  2.15638950e-01],\n",
              "       [ 9.04408023e-02,  1.20264076e-01,  1.70669183e-01,\n",
              "         6.49398342e-02, -1.08011074e-01],\n",
              "       [ 4.68488969e-02, -4.45667282e-02,  1.18420944e-02,\n",
              "        -2.28258856e-02,  3.86263840e-02],\n",
              "       [ 7.25775817e-03, -6.10162280e-02, -5.78659475e-02,\n",
              "        -6.39797822e-02,  5.43943010e-02],\n",
              "       [ 1.13281831e-02,  3.75940837e-02, -2.29214430e-02,\n",
              "         2.24342234e-02, -9.26358625e-03],\n",
              "       [-2.93679722e-02,  3.04967873e-02, -1.56387798e-02,\n",
              "        -2.58771423e-02, -1.27731934e-02],\n",
              "       [ 1.35668769e-01,  1.75678045e-01,  2.14311451e-01,\n",
              "         1.54675707e-01, -1.50264516e-01]], dtype=float32)"
            ]
          },
          "metadata": {},
          "execution_count": 58
        }
      ]
    },
    {
      "cell_type": "code",
      "source": [
        "len(weights)"
      ],
      "metadata": {
        "colab": {
          "base_uri": "https://localhost:8080/"
        },
        "id": "OJLpZ5glODgV",
        "outputId": "1083e10f-783c-4e13-ccef-2ca00cb62a35"
      },
      "execution_count": 59,
      "outputs": [
        {
          "output_type": "execute_result",
          "data": {
            "text/plain": [
              "30"
            ]
          },
          "metadata": {},
          "execution_count": 59
        }
      ]
    },
    {
      "cell_type": "code",
      "source": [
        "weights[10]"
      ],
      "metadata": {
        "colab": {
          "base_uri": "https://localhost:8080/"
        },
        "id": "Kx3tUxNpOJFT",
        "outputId": "2adfe71c-2a2c-4aa0-9e05-cd7b2b6b4f20"
      },
      "execution_count": 60,
      "outputs": [
        {
          "output_type": "execute_result",
          "data": {
            "text/plain": [
              "array([-0.04764473,  0.23776826, -0.12462544, -0.20790571, -0.19498263],\n",
              "      dtype=float32)"
            ]
          },
          "metadata": {},
          "execution_count": 60
        }
      ]
    },
    {
      "cell_type": "code",
      "source": [
        "weights[13]"
      ],
      "metadata": {
        "colab": {
          "base_uri": "https://localhost:8080/"
        },
        "id": "n00UfdjrOd53",
        "outputId": "75e59fdb-d07c-4bc9-e419-39063152377f"
      },
      "execution_count": 61,
      "outputs": [
        {
          "output_type": "execute_result",
          "data": {
            "text/plain": [
              "array([-0.15143715,  0.1893738 , -0.13403746, -0.16810022, -0.16336823],\n",
              "      dtype=float32)"
            ]
          },
          "metadata": {},
          "execution_count": 61
        }
      ]
    },
    {
      "cell_type": "code",
      "source": [],
      "metadata": {
        "id": "lM7n3-6TOgoi"
      },
      "execution_count": null,
      "outputs": []
    }
  ]
}